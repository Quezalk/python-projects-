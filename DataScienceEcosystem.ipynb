{
 "cells": [
  {
   "cell_type": "markdown",
   "id": "7c672124-830c-4e61-a20b-ed235e881686",
   "metadata": {},
   "source": [
    "# Data Science Tools and Ecosystem"
   ]
  },
  {
   "cell_type": "markdown",
   "id": "dce58386-b9ad-4fd5-b69d-0e5034c7c061",
   "metadata": {},
   "source": [
    "In this notebook, Data Science Tools and Ecosystem are summarized. "
   ]
  },
  {
   "cell_type": "markdown",
   "id": "d5737f00-9b0d-4582-8f82-4fa3defac7f4",
   "metadata": {},
   "source": [
    "### Some of the popular languages that Data Scientists use are:\n",
    "1. Python\n",
    "2. SQL\n",
    "3. Java Script "
   ]
  },
  {
   "cell_type": "markdown",
   "id": "3420038c-fe5a-45f9-a8f0-634d0e704367",
   "metadata": {},
   "source": [
    "### Some of the commonly used libraries used by Data Scientists include:\n",
    "1. Pandas\n",
    "2. NumPy\n",
    "3. Matplotlib\n",
    "4. Seaborn\n",
    "5. Scikit-learn"
   ]
  },
  {
   "cell_type": "markdown",
   "id": "352ee4b4-226a-4d45-b3a8-490e541759d6",
   "metadata": {},
   "source": [
    "|Data Science Tools|\n",
    "|------------------|\n",
    "|Jupyter IDE    |\n",
    "| RStudio         |\n",
    "|Pycharm          |"
   ]
  },
  {
   "cell_type": "markdown",
   "id": "547c395b-5d27-429c-b81c-5cf279cf7efd",
   "metadata": {},
   "source": [
    "### Below are a few examples of evaluatung arithmetic expressions in Python "
   ]
  },
  {
   "cell_type": "code",
   "execution_count": 11,
   "id": "27ba7e25-ceb2-4f81-9baa-f2b6f44431b0",
   "metadata": {},
   "outputs": [
    {
     "data": {
      "text/plain": [
       "17"
      ]
     },
     "execution_count": 11,
     "metadata": {},
     "output_type": "execute_result"
    }
   ],
   "source": [
    "# This a simple arithmetic expression to multiply then add integers \n",
    "(3*4)+5"
   ]
  },
  {
   "cell_type": "code",
   "execution_count": 13,
   "id": "7e759aae-eefe-40bc-8743-af42a68724a6",
   "metadata": {},
   "outputs": [
    {
     "data": {
      "text/plain": [
       "3.3333333333333335"
      ]
     },
     "execution_count": 13,
     "metadata": {},
     "output_type": "execute_result"
    }
   ],
   "source": [
    "# This will convert 200 minutes to hours by dividing by 60 \n",
    "200/60"
   ]
  },
  {
   "cell_type": "markdown",
   "id": "3db85fbc-5d53-43f8-b6db-ed5b1b80779b",
   "metadata": {},
   "source": [
    "# Objectives:\n",
    "- Python\n",
    "- Matlab\n",
    "- Java\n",
    "- Scala\n",
    "- Julia\n",
    "- SQL\n",
    "- R"
   ]
  },
  {
   "cell_type": "markdown",
   "id": "ecda2152-71a2-4819-8701-da8d034a27fc",
   "metadata": {},
   "source": [
    "## Author\n",
    "Ghazal Kamali "
   ]
  },
  {
   "cell_type": "code",
   "execution_count": null,
   "id": "05834d4d-d2aa-4451-986d-c36ce65236eb",
   "metadata": {},
   "outputs": [],
   "source": []
  }
 ],
 "metadata": {
  "kernelspec": {
   "display_name": "Python [conda env:base] *",
   "language": "python",
   "name": "conda-base-py"
  },
  "language_info": {
   "codemirror_mode": {
    "name": "ipython",
    "version": 3
   },
   "file_extension": ".py",
   "mimetype": "text/x-python",
   "name": "python",
   "nbconvert_exporter": "python",
   "pygments_lexer": "ipython3",
   "version": "3.12.3"
  }
 },
 "nbformat": 4,
 "nbformat_minor": 5
}
