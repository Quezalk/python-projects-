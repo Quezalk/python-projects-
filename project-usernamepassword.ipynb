{
 "cells": [
  {
   "cell_type": "code",
   "execution_count": 1,
   "id": "dbb945b9-ec9a-493b-aeb8-2ca2e4f9dafe",
   "metadata": {},
   "outputs": [],
   "source": [
    "import csv\n",
    "from pathlib import Path \n",
    "cwd = Path.cwd() / \"data\"\n",
    "cwd.mkdir(parents=True, exist_ok=True)\n",
    "with open(cwd/\"users_in.csv\",\"w\",newline= \"\")as file:\n",
    "    writer= csv.writer(file)\n",
    "    writer.writerow([\"username\",\"password\",\"real_name\"])\n",
    "    writer.writerow([\"amanda\",\"\",\"Amanda Alonso\"])\n",
    "    writer.writerow([\"ian\",\"\",\"Ian Ortega\"])\n",
    "    writer.writerow([\"eugene\",\"\",\"Eugene Konya\"])\n",
    "    "
   ]
  },
  {
   "cell_type": "code",
   "execution_count": 3,
   "id": "1434ef8f-4496-452a-b97e-6955c61bf5c6",
   "metadata": {},
   "outputs": [
    {
     "name": "stdout",
     "output_type": "stream",
     "text": [
      "creating account for Amanda Alonso with username:amanda\n",
      "creating account for Ian Ortega with username:ian\n",
      "creating account for Eugene Konya with username:eugene\n"
     ]
    }
   ],
   "source": [
    "import secrets \n",
    "with open(cwd/\"users_in.csv\",\"r\") as file_input, open(cwd /\"users_out.csv\",\"w\", newline=\"\") as file_output:\n",
    "    reader = csv.DictReader(file_input)\n",
    "    writer = csv.DictWriter(file_output,fieldnames= reader.fieldnames)\n",
    "    writer.writeheader()\n",
    "\n",
    "    for user in reader:\n",
    "        user[\"password\"]= secrets.token_hex(8)\n",
    "        print(f\"creating account for {user['real_name']} with username:{user['username']}\")\n",
    "\n",
    "    writer.writerow(user)"
   ]
  },
  {
   "cell_type": "code",
   "execution_count": 5,
   "id": "12427295-e643-499d-8f1a-774b8c5ac9bd",
   "metadata": {},
   "outputs": [
    {
     "name": "stdout",
     "output_type": "stream",
     "text": [
      "username,password,real_name\n",
      "eugene,ad1dccf1aa258b4d,Eugene Konya\n"
     ]
    }
   ],
   "source": [
    "with open(cwd / \"users_out.csv\",\"r\") as output_file:\n",
    "    for line in output_file:\n",
    "        print(line.strip())"
   ]
  },
  {
   "cell_type": "code",
   "execution_count": null,
   "id": "80928a24-59d6-4ae0-85f4-a1cc63fac628",
   "metadata": {},
   "outputs": [],
   "source": []
  }
 ],
 "metadata": {
  "kernelspec": {
   "display_name": "Python [conda env:base] *",
   "language": "python",
   "name": "conda-base-py"
  },
  "language_info": {
   "codemirror_mode": {
    "name": "ipython",
    "version": 3
   },
   "file_extension": ".py",
   "mimetype": "text/x-python",
   "name": "python",
   "nbconvert_exporter": "python",
   "pygments_lexer": "ipython3",
   "version": "3.12.7"
  }
 },
 "nbformat": 4,
 "nbformat_minor": 5
}
